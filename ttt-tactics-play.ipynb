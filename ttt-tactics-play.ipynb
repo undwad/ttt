{
 "cells": [
  {
   "cell_type": "code",
   "execution_count": 2,
   "metadata": {
    "cellView": "both",
    "cell_id": "00000-eed71e6e-88cc-4f47-80c0-7cf291a94720",
    "id": "7CLObsEc-FqT",
    "output_cleared": false
   },
   "outputs": [
    {
     "name": "stdout",
     "output_type": "stream",
     "text": [
      "<ipykernel.zmqshell.ZMQInteractiveShell object at 0x7f000d3856d0>\n",
      "'!!!.ipynb'     rl-theory.html\t    ttt-tactics.ipynb\n",
      " miscutils.py   rl-theory.ipynb     ttt-tactics-play.ipynb\n",
      " pull\t        tic-tac-toe.ipynb   ttt_tactics.py\n",
      " push\t        tmp\t\t    ttt-tactics-test.ipynb\n",
      " __pycache__    ttt-tactics\t    ttt-tactics-train.ipynb\n",
      "[PhysicalDevice(name='/physical_device:CPU:0', device_type='CPU'),\n",
      " PhysicalDevice(name='/physical_device:GPU:0', device_type='GPU')]\n",
      "cuda: True\n",
      "tensorflow: 2.11.0\n",
      "python: 3.9.2 (default, Feb 28 2021, 17:03:44) \n",
      "[GCC 10.2.1 20210110]\n",
      "module:  ttt_tactics\n",
      "DIR = ./ttt-tactics\n",
      "<function savesamples at 0x7efe5868b700>\n",
      "<function loadsamples at 0x7efe5868b820>\n",
      "<class 'ttt_tactics.AlphaZeroModel'>\n",
      "<function AlphaZeroPolicy at 0x7f000c349ee0>\n",
      "MemTotal:       32825076 kB\n",
      "MemFree:        30453296 kB\n",
      "MemAvailable:   30805992 kB\n"
     ]
    },
    {
     "name": "stderr",
     "output_type": "stream",
     "text": [
      "2023-03-26 16:10:57.095840: I tensorflow/compiler/xla/stream_executor/cuda/cuda_gpu_executor.cc:981] successful NUMA node read from SysFS had negative value (-1), but there must be at least one NUMA node, so returning NUMA node zero\n",
      "2023-03-26 16:10:57.102103: I tensorflow/compiler/xla/stream_executor/cuda/cuda_gpu_executor.cc:981] successful NUMA node read from SysFS had negative value (-1), but there must be at least one NUMA node, so returning NUMA node zero\n",
      "2023-03-26 16:10:57.102470: I tensorflow/compiler/xla/stream_executor/cuda/cuda_gpu_executor.cc:981] successful NUMA node read from SysFS had negative value (-1), but there must be at least one NUMA node, so returning NUMA node zero\n",
      "2023-03-26 16:10:57.104622: I tensorflow/core/platform/cpu_feature_guard.cc:193] This TensorFlow binary is optimized with oneAPI Deep Neural Network Library (oneDNN) to use the following CPU instructions in performance-critical operations:  AVX2 AVX512F AVX512_VNNI FMA\n",
      "To enable them in other operations, rebuild TensorFlow with the appropriate compiler flags.\n",
      "2023-03-26 16:10:57.106776: I tensorflow/compiler/xla/stream_executor/cuda/cuda_gpu_executor.cc:981] successful NUMA node read from SysFS had negative value (-1), but there must be at least one NUMA node, so returning NUMA node zero\n",
      "2023-03-26 16:10:57.107156: I tensorflow/compiler/xla/stream_executor/cuda/cuda_gpu_executor.cc:981] successful NUMA node read from SysFS had negative value (-1), but there must be at least one NUMA node, so returning NUMA node zero\n",
      "2023-03-26 16:10:57.107505: I tensorflow/compiler/xla/stream_executor/cuda/cuda_gpu_executor.cc:981] successful NUMA node read from SysFS had negative value (-1), but there must be at least one NUMA node, so returning NUMA node zero\n",
      "2023-03-26 16:10:57.517085: I tensorflow/compiler/xla/stream_executor/cuda/cuda_gpu_executor.cc:981] successful NUMA node read from SysFS had negative value (-1), but there must be at least one NUMA node, so returning NUMA node zero\n",
      "2023-03-26 16:10:57.517460: I tensorflow/compiler/xla/stream_executor/cuda/cuda_gpu_executor.cc:981] successful NUMA node read from SysFS had negative value (-1), but there must be at least one NUMA node, so returning NUMA node zero\n",
      "2023-03-26 16:10:57.517777: I tensorflow/compiler/xla/stream_executor/cuda/cuda_gpu_executor.cc:981] successful NUMA node read from SysFS had negative value (-1), but there must be at least one NUMA node, so returning NUMA node zero\n",
      "2023-03-26 16:10:57.518085: I tensorflow/core/common_runtime/gpu/gpu_device.cc:1613] Created device /job:localhost/replica:0/task:0/device:GPU:0 with 8083 MB memory:  -> device: 0, name: NVIDIA GeForce RTX 3080, pci bus id: 0000:01:00.0, compute capability: 8.6\n"
     ]
    }
   ],
   "source": [
    "ipython = get_ipython()\n",
    "colab   = 'google.colab' in str(ipython)\n",
    "print(ipython)\n",
    "\n",
    "if colab:\n",
    "    from google.colab import drive\n",
    "    drive.mount('/content/gdrive')\n",
    "    %cd '/content/gdrive/My Drive/Colab Notebooks'\n",
    "\n",
    "!ls \"./\"\n",
    "\n",
    "def MODULE_FROM_NOTEBOOK(target, source, *keys): \n",
    "    from json import load\n",
    "    with open(source) as notebook:\n",
    "        data = load(notebook)\n",
    "        with open(target,'w') as module:\n",
    "            for cell in data['cells']:\n",
    "                lines = cell['source']\n",
    "                if type(lines) == str:\n",
    "                    lines = lines.split('\\n')\n",
    "                line0  = (lines or [''])[0].strip()\n",
    "                haskey = lambda key: line0 == f'### {key} ###'\n",
    "                if cell['cell_type'] == 'code' and any(map(haskey,keys)):\n",
    "                    code = '\\n'.join(lines)\n",
    "                    module.write(code)\n",
    "                    module.write('\\n')\n",
    "                     \n",
    "# MODULE_FROM_NOTEBOOK('./ttt_tactics.py',\n",
    "#                      './ttt-tactics.ipynb',\n",
    "#                      'HEAD','GAME','DATA','MODEL','SEARCH')\n",
    "\n",
    "from ttt_tactics import *\n",
    "\n",
    "!cat /proc/meminfo | grep Mem\n",
    "\n",
    "ipynb = 'ttt-tactics-play'\n"
   ]
  },
  {
   "cell_type": "code",
   "execution_count": null,
   "metadata": {
    "id": "LMwcmv8aSXHx"
   },
   "outputs": [],
   "source": []
  },
  {
   "cell_type": "code",
   "execution_count": 4,
   "metadata": {
    "id": "SUoIZqK3oQlQ"
   },
   "outputs": [
    {
     "name": "stderr",
     "output_type": "stream",
     "text": [
      "WARNING:absl:`lr` is deprecated, please use `learning_rate` instead, or use the legacy optimizer, e.g.,tf.keras.optimizers.legacy.Adam.\n"
     ]
    },
    {
     "name": "stdout",
     "output_type": "stream",
     "text": [
      "samplegames 1:searchpi(alpha-zero-model,times=100,cp=2,tau=2) vs 2:searchpi(alpha-zero-model,times=100,cp=2,tau=2)\n",
      "WARNING:tensorflow:From /home/undwad/ipynb/jupyterenv/lib/python3.9/site-packages/tensorflow/python/autograph/pyct/static_analysis/liveness.py:83: Analyzer.lamba_check (from tensorflow.python.autograph.pyct.static_analysis.liveness) is deprecated and will be removed after 2023-09-23.\n",
      "Instructions for updating:\n",
      "Lambda fuctions will be no more assumed to be used in the statement where they are used, or at least in the same block. https://github.com/tensorflow/tensorflow/issues/56089\n"
     ]
    },
    {
     "name": "stderr",
     "output_type": "stream",
     "text": [
      "WARNING:tensorflow:From /home/undwad/ipynb/jupyterenv/lib/python3.9/site-packages/tensorflow/python/autograph/pyct/static_analysis/liveness.py:83: Analyzer.lamba_check (from tensorflow.python.autograph.pyct.static_analysis.liveness) is deprecated and will be removed after 2023-09-23.\n",
      "Instructions for updating:\n",
      "Lambda fuctions will be no more assumed to be used in the statement where they are used, or at least in the same block. https://github.com/tensorflow/tensorflow/issues/56089\n",
      "2023-03-26 16:13:30.526054: E tensorflow/compiler/xla/stream_executor/cuda/cuda_dnn.cc:433] Could not create cudnn handle: CUDNN_STATUS_NOT_INITIALIZED\n",
      "2023-03-26 16:13:30.526305: E tensorflow/compiler/xla/stream_executor/cuda/cuda_dnn.cc:442] Possibly insufficient driver version: 470.161.3\n",
      "2023-03-26 16:13:30.526351: W tensorflow/core/framework/op_kernel.cc:1830] OP_REQUIRES failed at conv_ops.cc:1152 : UNIMPLEMENTED: DNN library is not found.\n",
      "2023-03-26 16:13:30.540406: E tensorflow/compiler/xla/stream_executor/cuda/cuda_dnn.cc:433] Could not create cudnn handle: CUDNN_STATUS_NOT_INITIALIZED\n",
      "2023-03-26 16:13:30.540463: E tensorflow/compiler/xla/stream_executor/cuda/cuda_dnn.cc:442] Possibly insufficient driver version: 470.161.3\n",
      "2023-03-26 16:13:30.540490: W tensorflow/core/framework/op_kernel.cc:1830] OP_REQUIRES failed at conv_ops.cc:1152 : UNIMPLEMENTED: DNN library is not found.\n"
     ]
    },
    {
     "ename": "UnimplementedError",
     "evalue": "Graph execution error:\n\nDetected at node 'while/while/cond/alpha-zero-model/conv2d_2/Conv2D' defined at (most recent call last):\n    File \"/usr/lib/python3.9/runpy.py\", line 197, in _run_module_as_main\n      return _run_code(code, main_globals, None,\n    File \"/usr/lib/python3.9/runpy.py\", line 87, in _run_code\n      exec(code, run_globals)\n    File \"/home/undwad/ipynb/jupyterenv/lib/python3.9/site-packages/ipykernel_launcher.py\", line 17, in <module>\n      app.launch_new_instance()\n    File \"/home/undwad/ipynb/jupyterenv/lib/python3.9/site-packages/traitlets/config/application.py\", line 1043, in launch_instance\n      app.start()\n    File \"/home/undwad/ipynb/jupyterenv/lib/python3.9/site-packages/ipykernel/kernelapp.py\", line 725, in start\n      self.io_loop.start()\n    File \"/home/undwad/ipynb/jupyterenv/lib/python3.9/site-packages/tornado/platform/asyncio.py\", line 215, in start\n      self.asyncio_loop.run_forever()\n    File \"/usr/lib/python3.9/asyncio/base_events.py\", line 596, in run_forever\n      self._run_once()\n    File \"/usr/lib/python3.9/asyncio/base_events.py\", line 1890, in _run_once\n      handle._run()\n    File \"/usr/lib/python3.9/asyncio/events.py\", line 80, in _run\n      self._context.run(self._callback, *self._args)\n    File \"/home/undwad/ipynb/jupyterenv/lib/python3.9/site-packages/ipykernel/kernelbase.py\", line 513, in dispatch_queue\n      await self.process_one()\n    File \"/home/undwad/ipynb/jupyterenv/lib/python3.9/site-packages/ipykernel/kernelbase.py\", line 502, in process_one\n      await dispatch(*args)\n    File \"/home/undwad/ipynb/jupyterenv/lib/python3.9/site-packages/ipykernel/kernelbase.py\", line 409, in dispatch_shell\n      await result\n    File \"/home/undwad/ipynb/jupyterenv/lib/python3.9/site-packages/ipykernel/kernelbase.py\", line 729, in execute_request\n      reply_content = await reply_content\n    File \"/home/undwad/ipynb/jupyterenv/lib/python3.9/site-packages/ipykernel/ipkernel.py\", line 422, in do_execute\n      res = shell.run_cell(\n    File \"/home/undwad/ipynb/jupyterenv/lib/python3.9/site-packages/ipykernel/zmqshell.py\", line 540, in run_cell\n      return super().run_cell(*args, **kwargs)\n    File \"/home/undwad/ipynb/jupyterenv/lib/python3.9/site-packages/IPython/core/interactiveshell.py\", line 2961, in run_cell\n      result = self._run_cell(\n    File \"/home/undwad/ipynb/jupyterenv/lib/python3.9/site-packages/IPython/core/interactiveshell.py\", line 3016, in _run_cell\n      result = runner(coro)\n    File \"/home/undwad/ipynb/jupyterenv/lib/python3.9/site-packages/IPython/core/async_helpers.py\", line 129, in _pseudo_sync_runner\n      coro.send(None)\n    File \"/home/undwad/ipynb/jupyterenv/lib/python3.9/site-packages/IPython/core/interactiveshell.py\", line 3221, in run_cell_async\n      has_raised = await self.run_ast_nodes(code_ast.body, cell_name,\n    File \"/home/undwad/ipynb/jupyterenv/lib/python3.9/site-packages/IPython/core/interactiveshell.py\", line 3400, in run_ast_nodes\n      if await self.run_code(code, result, async_=asy):\n    File \"/home/undwad/ipynb/jupyterenv/lib/python3.9/site-packages/IPython/core/interactiveshell.py\", line 3460, in run_code\n      exec(code_obj, self.user_global_ns, self.user_ns)\n    File \"/tmp/ipykernel_4015982/1054033648.py\", line 16, in <module>\n      samples = samplegames({1:pi,2:pi}, iters=100)\n    File \"/home/undwad/ipynb/ttt/ttt_tactics.py\", line 601, in samplegames\n      winner,ss,pp,aa,rr,n = samplegame(pi)\n    File \"/home/undwad/ipynb/ttt/ttt_tactics.py\", line 539, in samplegame\n      while winner < 0:\n    File \"/home/undwad/ipynb/ttt/ttt_tactics.py\", line 543, in samplegame\n      aa,pp = selectpi(pi,s)\n    File \"/home/undwad/ipynb/ttt/ttt_tactics.py\", line 459, in selectpi\n      if actor == 1: return pi[1](s)\n    File \"/home/undwad/ipynb/ttt/ttt_tactics.py\", line 459, in selectpi\n      if actor == 1: return pi[1](s)\n    File \"/home/undwad/ipynb/ttt/ttt_tactics.py\", line 1457, in searchpi\n      for t in range(times):\n    File \"/home/undwad/ipynb/ttt/ttt_tactics.py\", line 1469, in searchpi\n      while winner < 0:\n    File \"/home/undwad/ipynb/ttt/ttt_tactics.py\", line 1479, in searchpi\n      if node < 0:\n    File \"/home/undwad/ipynb/ttt/ttt_tactics.py\", line 1481, in searchpi\n      q,pp = model(s,policy=False)\n    File \"/home/undwad/ipynb/ttt/ttt_tactics.py\", line 1181, in __call__\n      if training:\n    File \"/home/undwad/ipynb/ttt/ttt_tactics.py\", line 1191, in __call__\n      q,ppp = super(AlphaZeroModel, self).__call__(xx, training=False)\n    File \"/home/undwad/ipynb/jupyterenv/lib/python3.9/site-packages/keras/utils/traceback_utils.py\", line 65, in error_handler\n      return fn(*args, **kwargs)\n    File \"/home/undwad/ipynb/jupyterenv/lib/python3.9/site-packages/keras/engine/training.py\", line 561, in __call__\n      return super().__call__(*args, **kwargs)\n    File \"/home/undwad/ipynb/jupyterenv/lib/python3.9/site-packages/keras/utils/traceback_utils.py\", line 65, in error_handler\n      return fn(*args, **kwargs)\n    File \"/home/undwad/ipynb/jupyterenv/lib/python3.9/site-packages/keras/engine/base_layer.py\", line 1132, in __call__\n      outputs = call_fn(inputs, *args, **kwargs)\n    File \"/home/undwad/ipynb/jupyterenv/lib/python3.9/site-packages/keras/utils/traceback_utils.py\", line 96, in error_handler\n      return fn(*args, **kwargs)\n    File \"/home/undwad/ipynb/jupyterenv/lib/python3.9/site-packages/keras/engine/functional.py\", line 511, in call\n      return self._run_internal_graph(inputs, training=training, mask=mask)\n    File \"/home/undwad/ipynb/jupyterenv/lib/python3.9/site-packages/keras/engine/functional.py\", line 668, in _run_internal_graph\n      outputs = node.layer(*args, **kwargs)\n    File \"/home/undwad/ipynb/jupyterenv/lib/python3.9/site-packages/keras/utils/traceback_utils.py\", line 65, in error_handler\n      return fn(*args, **kwargs)\n    File \"/home/undwad/ipynb/jupyterenv/lib/python3.9/site-packages/keras/engine/base_layer.py\", line 1132, in __call__\n      outputs = call_fn(inputs, *args, **kwargs)\n    File \"/home/undwad/ipynb/jupyterenv/lib/python3.9/site-packages/keras/utils/traceback_utils.py\", line 96, in error_handler\n      return fn(*args, **kwargs)\n    File \"/home/undwad/ipynb/jupyterenv/lib/python3.9/site-packages/keras/layers/convolutional/base_conv.py\", line 283, in call\n      outputs = self.convolution_op(inputs, self.kernel)\n    File \"/home/undwad/ipynb/jupyterenv/lib/python3.9/site-packages/keras/layers/convolutional/base_conv.py\", line 255, in convolution_op\n      return tf.nn.convolution(\nNode: 'while/while/cond/alpha-zero-model/conv2d_2/Conv2D'\nDetected at node 'while/while/cond/alpha-zero-model/conv2d_2/Conv2D' defined at (most recent call last):\n    File \"/usr/lib/python3.9/runpy.py\", line 197, in _run_module_as_main\n      return _run_code(code, main_globals, None,\n    File \"/usr/lib/python3.9/runpy.py\", line 87, in _run_code\n      exec(code, run_globals)\n    File \"/home/undwad/ipynb/jupyterenv/lib/python3.9/site-packages/ipykernel_launcher.py\", line 17, in <module>\n      app.launch_new_instance()\n    File \"/home/undwad/ipynb/jupyterenv/lib/python3.9/site-packages/traitlets/config/application.py\", line 1043, in launch_instance\n      app.start()\n    File \"/home/undwad/ipynb/jupyterenv/lib/python3.9/site-packages/ipykernel/kernelapp.py\", line 725, in start\n      self.io_loop.start()\n    File \"/home/undwad/ipynb/jupyterenv/lib/python3.9/site-packages/tornado/platform/asyncio.py\", line 215, in start\n      self.asyncio_loop.run_forever()\n    File \"/usr/lib/python3.9/asyncio/base_events.py\", line 596, in run_forever\n      self._run_once()\n    File \"/usr/lib/python3.9/asyncio/base_events.py\", line 1890, in _run_once\n      handle._run()\n    File \"/usr/lib/python3.9/asyncio/events.py\", line 80, in _run\n      self._context.run(self._callback, *self._args)\n    File \"/home/undwad/ipynb/jupyterenv/lib/python3.9/site-packages/ipykernel/kernelbase.py\", line 513, in dispatch_queue\n      await self.process_one()\n    File \"/home/undwad/ipynb/jupyterenv/lib/python3.9/site-packages/ipykernel/kernelbase.py\", line 502, in process_one\n      await dispatch(*args)\n    File \"/home/undwad/ipynb/jupyterenv/lib/python3.9/site-packages/ipykernel/kernelbase.py\", line 409, in dispatch_shell\n      await result\n    File \"/home/undwad/ipynb/jupyterenv/lib/python3.9/site-packages/ipykernel/kernelbase.py\", line 729, in execute_request\n      reply_content = await reply_content\n    File \"/home/undwad/ipynb/jupyterenv/lib/python3.9/site-packages/ipykernel/ipkernel.py\", line 422, in do_execute\n      res = shell.run_cell(\n    File \"/home/undwad/ipynb/jupyterenv/lib/python3.9/site-packages/ipykernel/zmqshell.py\", line 540, in run_cell\n      return super().run_cell(*args, **kwargs)\n    File \"/home/undwad/ipynb/jupyterenv/lib/python3.9/site-packages/IPython/core/interactiveshell.py\", line 2961, in run_cell\n      result = self._run_cell(\n    File \"/home/undwad/ipynb/jupyterenv/lib/python3.9/site-packages/IPython/core/interactiveshell.py\", line 3016, in _run_cell\n      result = runner(coro)\n    File \"/home/undwad/ipynb/jupyterenv/lib/python3.9/site-packages/IPython/core/async_helpers.py\", line 129, in _pseudo_sync_runner\n      coro.send(None)\n    File \"/home/undwad/ipynb/jupyterenv/lib/python3.9/site-packages/IPython/core/interactiveshell.py\", line 3221, in run_cell_async\n      has_raised = await self.run_ast_nodes(code_ast.body, cell_name,\n    File \"/home/undwad/ipynb/jupyterenv/lib/python3.9/site-packages/IPython/core/interactiveshell.py\", line 3400, in run_ast_nodes\n      if await self.run_code(code, result, async_=asy):\n    File \"/home/undwad/ipynb/jupyterenv/lib/python3.9/site-packages/IPython/core/interactiveshell.py\", line 3460, in run_code\n      exec(code_obj, self.user_global_ns, self.user_ns)\n    File \"/tmp/ipykernel_4015982/1054033648.py\", line 16, in <module>\n      samples = samplegames({1:pi,2:pi}, iters=100)\n    File \"/home/undwad/ipynb/ttt/ttt_tactics.py\", line 601, in samplegames\n      winner,ss,pp,aa,rr,n = samplegame(pi)\n    File \"/home/undwad/ipynb/ttt/ttt_tactics.py\", line 539, in samplegame\n      while winner < 0:\n    File \"/home/undwad/ipynb/ttt/ttt_tactics.py\", line 543, in samplegame\n      aa,pp = selectpi(pi,s)\n    File \"/home/undwad/ipynb/ttt/ttt_tactics.py\", line 459, in selectpi\n      if actor == 1: return pi[1](s)\n    File \"/home/undwad/ipynb/ttt/ttt_tactics.py\", line 459, in selectpi\n      if actor == 1: return pi[1](s)\n    File \"/home/undwad/ipynb/ttt/ttt_tactics.py\", line 1457, in searchpi\n      for t in range(times):\n    File \"/home/undwad/ipynb/ttt/ttt_tactics.py\", line 1469, in searchpi\n      while winner < 0:\n    File \"/home/undwad/ipynb/ttt/ttt_tactics.py\", line 1479, in searchpi\n      if node < 0:\n    File \"/home/undwad/ipynb/ttt/ttt_tactics.py\", line 1481, in searchpi\n      q,pp = model(s,policy=False)\n    File \"/home/undwad/ipynb/ttt/ttt_tactics.py\", line 1181, in __call__\n      if training:\n    File \"/home/undwad/ipynb/ttt/ttt_tactics.py\", line 1191, in __call__\n      q,ppp = super(AlphaZeroModel, self).__call__(xx, training=False)\n    File \"/home/undwad/ipynb/jupyterenv/lib/python3.9/site-packages/keras/utils/traceback_utils.py\", line 65, in error_handler\n      return fn(*args, **kwargs)\n    File \"/home/undwad/ipynb/jupyterenv/lib/python3.9/site-packages/keras/engine/training.py\", line 561, in __call__\n      return super().__call__(*args, **kwargs)\n    File \"/home/undwad/ipynb/jupyterenv/lib/python3.9/site-packages/keras/utils/traceback_utils.py\", line 65, in error_handler\n      return fn(*args, **kwargs)\n    File \"/home/undwad/ipynb/jupyterenv/lib/python3.9/site-packages/keras/engine/base_layer.py\", line 1132, in __call__\n      outputs = call_fn(inputs, *args, **kwargs)\n    File \"/home/undwad/ipynb/jupyterenv/lib/python3.9/site-packages/keras/utils/traceback_utils.py\", line 96, in error_handler\n      return fn(*args, **kwargs)\n    File \"/home/undwad/ipynb/jupyterenv/lib/python3.9/site-packages/keras/engine/functional.py\", line 511, in call\n      return self._run_internal_graph(inputs, training=training, mask=mask)\n    File \"/home/undwad/ipynb/jupyterenv/lib/python3.9/site-packages/keras/engine/functional.py\", line 668, in _run_internal_graph\n      outputs = node.layer(*args, **kwargs)\n    File \"/home/undwad/ipynb/jupyterenv/lib/python3.9/site-packages/keras/utils/traceback_utils.py\", line 65, in error_handler\n      return fn(*args, **kwargs)\n    File \"/home/undwad/ipynb/jupyterenv/lib/python3.9/site-packages/keras/engine/base_layer.py\", line 1132, in __call__\n      outputs = call_fn(inputs, *args, **kwargs)\n    File \"/home/undwad/ipynb/jupyterenv/lib/python3.9/site-packages/keras/utils/traceback_utils.py\", line 96, in error_handler\n      return fn(*args, **kwargs)\n    File \"/home/undwad/ipynb/jupyterenv/lib/python3.9/site-packages/keras/layers/convolutional/base_conv.py\", line 283, in call\n      outputs = self.convolution_op(inputs, self.kernel)\n    File \"/home/undwad/ipynb/jupyterenv/lib/python3.9/site-packages/keras/layers/convolutional/base_conv.py\", line 255, in convolution_op\n      return tf.nn.convolution(\nNode: 'while/while/cond/alpha-zero-model/conv2d_2/Conv2D'\n2 root error(s) found.\n  (0) UNIMPLEMENTED:  DNN library is not found.\n\t [[{{node while/while/cond/alpha-zero-model/conv2d_2/Conv2D}}]]\n\t [[while/body/_1/while/cond/then/_710/while/cond/StatefulPartitionedCall/while/body/_1682/while/while/body/_2971/while/while/cond/else/_4404/while/while/cond/cond_1/pivot_t/_5471/_649]]\n  (1) UNIMPLEMENTED:  DNN library is not found.\n\t [[{{node while/while/cond/alpha-zero-model/conv2d_2/Conv2D}}]]\n0 successful operations.\n0 derived errors ignored. [Op:__inference_samplegame_9232]",
     "output_type": "error",
     "traceback": [
      "\u001b[0;31m---------------------------------------------------------------------------\u001b[0m",
      "\u001b[0;31mUnimplementedError\u001b[0m                        Traceback (most recent call last)",
      "Cell \u001b[0;32mIn[4], line 16\u001b[0m\n\u001b[1;32m     13\u001b[0m \u001b[38;5;28;01mif\u001b[39;00m models: model\u001b[38;5;241m.\u001b[39mload(models[\u001b[38;5;241m-\u001b[39m\u001b[38;5;241m1\u001b[39m])\n\u001b[1;32m     15\u001b[0m pi \u001b[38;5;241m=\u001b[39m AlphaZeroPolicy(model, times\u001b[38;5;241m=\u001b[39m\u001b[38;5;241m100\u001b[39m, cp\u001b[38;5;241m=\u001b[39m\u001b[38;5;241m2\u001b[39m, tau\u001b[38;5;241m=\u001b[39m\u001b[38;5;241m2\u001b[39m)\n\u001b[0;32m---> 16\u001b[0m samples \u001b[38;5;241m=\u001b[39m \u001b[43msamplegames\u001b[49m\u001b[43m(\u001b[49m\u001b[43m{\u001b[49m\u001b[38;5;241;43m1\u001b[39;49m\u001b[43m:\u001b[49m\u001b[43mpi\u001b[49m\u001b[43m,\u001b[49m\u001b[38;5;241;43m2\u001b[39;49m\u001b[43m:\u001b[49m\u001b[43mpi\u001b[49m\u001b[43m}\u001b[49m\u001b[43m,\u001b[49m\u001b[43m \u001b[49m\u001b[43miters\u001b[49m\u001b[38;5;241;43m=\u001b[39;49m\u001b[38;5;241;43m100\u001b[39;49m\u001b[43m)\u001b[49m\n\u001b[1;32m     17\u001b[0m \u001b[38;5;28mprint\u001b[39m(\u001b[38;5;124m'\u001b[39m\u001b[38;5;124msamples:\u001b[39m\u001b[38;5;124m'\u001b[39m, \u001b[38;5;28mlen\u001b[39m(samples))\n\u001b[1;32m     19\u001b[0m path \u001b[38;5;241m=\u001b[39m nextfile(datas[\u001b[38;5;241m-\u001b[39m\u001b[38;5;241m1\u001b[39m])\n",
      "File \u001b[0;32m~/ipynb/ttt/ttt_tactics.py:601\u001b[0m, in \u001b[0;36msamplegames\u001b[0;34m(pi, iters)\u001b[0m\n\u001b[1;32m    597\u001b[0m \u001b[38;5;28mprint\u001b[39m(\u001b[38;5;124mf\u001b[39m\u001b[38;5;124m'\u001b[39m\u001b[38;5;124msamplegames \u001b[39m\u001b[38;5;132;01m{\u001b[39;00magent\u001b[38;5;132;01m}\u001b[39;00m\u001b[38;5;124m:\u001b[39m\u001b[38;5;132;01m{\u001b[39;00mpi[agent]\u001b[38;5;241m.\u001b[39m\u001b[38;5;18m__name__\u001b[39m\u001b[38;5;132;01m}\u001b[39;00m\u001b[38;5;124m vs \u001b[39m\u001b[38;5;132;01m{\u001b[39;00mrival\u001b[38;5;132;01m}\u001b[39;00m\u001b[38;5;124m:\u001b[39m\u001b[38;5;132;01m{\u001b[39;00mpi[rival]\u001b[38;5;241m.\u001b[39m\u001b[38;5;18m__name__\u001b[39m\u001b[38;5;132;01m}\u001b[39;00m\u001b[38;5;124m'\u001b[39m)\n\u001b[1;32m    599\u001b[0m \u001b[38;5;28;01mfor\u001b[39;00m i \u001b[38;5;129;01min\u001b[39;00m \u001b[38;5;28mrange\u001b[39m(iters):\n\u001b[0;32m--> 601\u001b[0m     winner,ss,pp,aa,rr,n \u001b[38;5;241m=\u001b[39m \u001b[43msamplegame\u001b[49m\u001b[43m(\u001b[49m\u001b[43mpi\u001b[49m\u001b[43m)\u001b[49m\n\u001b[1;32m    603\u001b[0m     \u001b[38;5;28;01mfor\u001b[39;00m j \u001b[38;5;129;01min\u001b[39;00m \u001b[38;5;28mrange\u001b[39m(n):\n\u001b[1;32m    605\u001b[0m         samples\u001b[38;5;241m.\u001b[39mappend((ss[j],pp[j],aa[j],rr[j]))\n",
      "File \u001b[0;32m~/ipynb/jupyterenv/lib/python3.9/site-packages/tensorflow/python/util/traceback_utils.py:153\u001b[0m, in \u001b[0;36mfilter_traceback.<locals>.error_handler\u001b[0;34m(*args, **kwargs)\u001b[0m\n\u001b[1;32m    151\u001b[0m \u001b[38;5;28;01mexcept\u001b[39;00m \u001b[38;5;167;01mException\u001b[39;00m \u001b[38;5;28;01mas\u001b[39;00m e:\n\u001b[1;32m    152\u001b[0m   filtered_tb \u001b[38;5;241m=\u001b[39m _process_traceback_frames(e\u001b[38;5;241m.\u001b[39m__traceback__)\n\u001b[0;32m--> 153\u001b[0m   \u001b[38;5;28;01mraise\u001b[39;00m e\u001b[38;5;241m.\u001b[39mwith_traceback(filtered_tb) \u001b[38;5;28;01mfrom\u001b[39;00m \u001b[38;5;28mNone\u001b[39m\n\u001b[1;32m    154\u001b[0m \u001b[38;5;28;01mfinally\u001b[39;00m:\n\u001b[1;32m    155\u001b[0m   \u001b[38;5;28;01mdel\u001b[39;00m filtered_tb\n",
      "File \u001b[0;32m~/ipynb/jupyterenv/lib/python3.9/site-packages/tensorflow/python/eager/execute.py:52\u001b[0m, in \u001b[0;36mquick_execute\u001b[0;34m(op_name, num_outputs, inputs, attrs, ctx, name)\u001b[0m\n\u001b[1;32m     50\u001b[0m \u001b[38;5;28;01mtry\u001b[39;00m:\n\u001b[1;32m     51\u001b[0m   ctx\u001b[38;5;241m.\u001b[39mensure_initialized()\n\u001b[0;32m---> 52\u001b[0m   tensors \u001b[38;5;241m=\u001b[39m pywrap_tfe\u001b[38;5;241m.\u001b[39mTFE_Py_Execute(ctx\u001b[38;5;241m.\u001b[39m_handle, device_name, op_name,\n\u001b[1;32m     53\u001b[0m                                       inputs, attrs, num_outputs)\n\u001b[1;32m     54\u001b[0m \u001b[38;5;28;01mexcept\u001b[39;00m core\u001b[38;5;241m.\u001b[39m_NotOkStatusException \u001b[38;5;28;01mas\u001b[39;00m e:\n\u001b[1;32m     55\u001b[0m   \u001b[38;5;28;01mif\u001b[39;00m name \u001b[38;5;129;01mis\u001b[39;00m \u001b[38;5;129;01mnot\u001b[39;00m \u001b[38;5;28;01mNone\u001b[39;00m:\n",
      "\u001b[0;31mUnimplementedError\u001b[0m: Graph execution error:\n\nDetected at node 'while/while/cond/alpha-zero-model/conv2d_2/Conv2D' defined at (most recent call last):\n    File \"/usr/lib/python3.9/runpy.py\", line 197, in _run_module_as_main\n      return _run_code(code, main_globals, None,\n    File \"/usr/lib/python3.9/runpy.py\", line 87, in _run_code\n      exec(code, run_globals)\n    File \"/home/undwad/ipynb/jupyterenv/lib/python3.9/site-packages/ipykernel_launcher.py\", line 17, in <module>\n      app.launch_new_instance()\n    File \"/home/undwad/ipynb/jupyterenv/lib/python3.9/site-packages/traitlets/config/application.py\", line 1043, in launch_instance\n      app.start()\n    File \"/home/undwad/ipynb/jupyterenv/lib/python3.9/site-packages/ipykernel/kernelapp.py\", line 725, in start\n      self.io_loop.start()\n    File \"/home/undwad/ipynb/jupyterenv/lib/python3.9/site-packages/tornado/platform/asyncio.py\", line 215, in start\n      self.asyncio_loop.run_forever()\n    File \"/usr/lib/python3.9/asyncio/base_events.py\", line 596, in run_forever\n      self._run_once()\n    File \"/usr/lib/python3.9/asyncio/base_events.py\", line 1890, in _run_once\n      handle._run()\n    File \"/usr/lib/python3.9/asyncio/events.py\", line 80, in _run\n      self._context.run(self._callback, *self._args)\n    File \"/home/undwad/ipynb/jupyterenv/lib/python3.9/site-packages/ipykernel/kernelbase.py\", line 513, in dispatch_queue\n      await self.process_one()\n    File \"/home/undwad/ipynb/jupyterenv/lib/python3.9/site-packages/ipykernel/kernelbase.py\", line 502, in process_one\n      await dispatch(*args)\n    File \"/home/undwad/ipynb/jupyterenv/lib/python3.9/site-packages/ipykernel/kernelbase.py\", line 409, in dispatch_shell\n      await result\n    File \"/home/undwad/ipynb/jupyterenv/lib/python3.9/site-packages/ipykernel/kernelbase.py\", line 729, in execute_request\n      reply_content = await reply_content\n    File \"/home/undwad/ipynb/jupyterenv/lib/python3.9/site-packages/ipykernel/ipkernel.py\", line 422, in do_execute\n      res = shell.run_cell(\n    File \"/home/undwad/ipynb/jupyterenv/lib/python3.9/site-packages/ipykernel/zmqshell.py\", line 540, in run_cell\n      return super().run_cell(*args, **kwargs)\n    File \"/home/undwad/ipynb/jupyterenv/lib/python3.9/site-packages/IPython/core/interactiveshell.py\", line 2961, in run_cell\n      result = self._run_cell(\n    File \"/home/undwad/ipynb/jupyterenv/lib/python3.9/site-packages/IPython/core/interactiveshell.py\", line 3016, in _run_cell\n      result = runner(coro)\n    File \"/home/undwad/ipynb/jupyterenv/lib/python3.9/site-packages/IPython/core/async_helpers.py\", line 129, in _pseudo_sync_runner\n      coro.send(None)\n    File \"/home/undwad/ipynb/jupyterenv/lib/python3.9/site-packages/IPython/core/interactiveshell.py\", line 3221, in run_cell_async\n      has_raised = await self.run_ast_nodes(code_ast.body, cell_name,\n    File \"/home/undwad/ipynb/jupyterenv/lib/python3.9/site-packages/IPython/core/interactiveshell.py\", line 3400, in run_ast_nodes\n      if await self.run_code(code, result, async_=asy):\n    File \"/home/undwad/ipynb/jupyterenv/lib/python3.9/site-packages/IPython/core/interactiveshell.py\", line 3460, in run_code\n      exec(code_obj, self.user_global_ns, self.user_ns)\n    File \"/tmp/ipykernel_4015982/1054033648.py\", line 16, in <module>\n      samples = samplegames({1:pi,2:pi}, iters=100)\n    File \"/home/undwad/ipynb/ttt/ttt_tactics.py\", line 601, in samplegames\n      winner,ss,pp,aa,rr,n = samplegame(pi)\n    File \"/home/undwad/ipynb/ttt/ttt_tactics.py\", line 539, in samplegame\n      while winner < 0:\n    File \"/home/undwad/ipynb/ttt/ttt_tactics.py\", line 543, in samplegame\n      aa,pp = selectpi(pi,s)\n    File \"/home/undwad/ipynb/ttt/ttt_tactics.py\", line 459, in selectpi\n      if actor == 1: return pi[1](s)\n    File \"/home/undwad/ipynb/ttt/ttt_tactics.py\", line 459, in selectpi\n      if actor == 1: return pi[1](s)\n    File \"/home/undwad/ipynb/ttt/ttt_tactics.py\", line 1457, in searchpi\n      for t in range(times):\n    File \"/home/undwad/ipynb/ttt/ttt_tactics.py\", line 1469, in searchpi\n      while winner < 0:\n    File \"/home/undwad/ipynb/ttt/ttt_tactics.py\", line 1479, in searchpi\n      if node < 0:\n    File \"/home/undwad/ipynb/ttt/ttt_tactics.py\", line 1481, in searchpi\n      q,pp = model(s,policy=False)\n    File \"/home/undwad/ipynb/ttt/ttt_tactics.py\", line 1181, in __call__\n      if training:\n    File \"/home/undwad/ipynb/ttt/ttt_tactics.py\", line 1191, in __call__\n      q,ppp = super(AlphaZeroModel, self).__call__(xx, training=False)\n    File \"/home/undwad/ipynb/jupyterenv/lib/python3.9/site-packages/keras/utils/traceback_utils.py\", line 65, in error_handler\n      return fn(*args, **kwargs)\n    File \"/home/undwad/ipynb/jupyterenv/lib/python3.9/site-packages/keras/engine/training.py\", line 561, in __call__\n      return super().__call__(*args, **kwargs)\n    File \"/home/undwad/ipynb/jupyterenv/lib/python3.9/site-packages/keras/utils/traceback_utils.py\", line 65, in error_handler\n      return fn(*args, **kwargs)\n    File \"/home/undwad/ipynb/jupyterenv/lib/python3.9/site-packages/keras/engine/base_layer.py\", line 1132, in __call__\n      outputs = call_fn(inputs, *args, **kwargs)\n    File \"/home/undwad/ipynb/jupyterenv/lib/python3.9/site-packages/keras/utils/traceback_utils.py\", line 96, in error_handler\n      return fn(*args, **kwargs)\n    File \"/home/undwad/ipynb/jupyterenv/lib/python3.9/site-packages/keras/engine/functional.py\", line 511, in call\n      return self._run_internal_graph(inputs, training=training, mask=mask)\n    File \"/home/undwad/ipynb/jupyterenv/lib/python3.9/site-packages/keras/engine/functional.py\", line 668, in _run_internal_graph\n      outputs = node.layer(*args, **kwargs)\n    File \"/home/undwad/ipynb/jupyterenv/lib/python3.9/site-packages/keras/utils/traceback_utils.py\", line 65, in error_handler\n      return fn(*args, **kwargs)\n    File \"/home/undwad/ipynb/jupyterenv/lib/python3.9/site-packages/keras/engine/base_layer.py\", line 1132, in __call__\n      outputs = call_fn(inputs, *args, **kwargs)\n    File \"/home/undwad/ipynb/jupyterenv/lib/python3.9/site-packages/keras/utils/traceback_utils.py\", line 96, in error_handler\n      return fn(*args, **kwargs)\n    File \"/home/undwad/ipynb/jupyterenv/lib/python3.9/site-packages/keras/layers/convolutional/base_conv.py\", line 283, in call\n      outputs = self.convolution_op(inputs, self.kernel)\n    File \"/home/undwad/ipynb/jupyterenv/lib/python3.9/site-packages/keras/layers/convolutional/base_conv.py\", line 255, in convolution_op\n      return tf.nn.convolution(\nNode: 'while/while/cond/alpha-zero-model/conv2d_2/Conv2D'\nDetected at node 'while/while/cond/alpha-zero-model/conv2d_2/Conv2D' defined at (most recent call last):\n    File \"/usr/lib/python3.9/runpy.py\", line 197, in _run_module_as_main\n      return _run_code(code, main_globals, None,\n    File \"/usr/lib/python3.9/runpy.py\", line 87, in _run_code\n      exec(code, run_globals)\n    File \"/home/undwad/ipynb/jupyterenv/lib/python3.9/site-packages/ipykernel_launcher.py\", line 17, in <module>\n      app.launch_new_instance()\n    File \"/home/undwad/ipynb/jupyterenv/lib/python3.9/site-packages/traitlets/config/application.py\", line 1043, in launch_instance\n      app.start()\n    File \"/home/undwad/ipynb/jupyterenv/lib/python3.9/site-packages/ipykernel/kernelapp.py\", line 725, in start\n      self.io_loop.start()\n    File \"/home/undwad/ipynb/jupyterenv/lib/python3.9/site-packages/tornado/platform/asyncio.py\", line 215, in start\n      self.asyncio_loop.run_forever()\n    File \"/usr/lib/python3.9/asyncio/base_events.py\", line 596, in run_forever\n      self._run_once()\n    File \"/usr/lib/python3.9/asyncio/base_events.py\", line 1890, in _run_once\n      handle._run()\n    File \"/usr/lib/python3.9/asyncio/events.py\", line 80, in _run\n      self._context.run(self._callback, *self._args)\n    File \"/home/undwad/ipynb/jupyterenv/lib/python3.9/site-packages/ipykernel/kernelbase.py\", line 513, in dispatch_queue\n      await self.process_one()\n    File \"/home/undwad/ipynb/jupyterenv/lib/python3.9/site-packages/ipykernel/kernelbase.py\", line 502, in process_one\n      await dispatch(*args)\n    File \"/home/undwad/ipynb/jupyterenv/lib/python3.9/site-packages/ipykernel/kernelbase.py\", line 409, in dispatch_shell\n      await result\n    File \"/home/undwad/ipynb/jupyterenv/lib/python3.9/site-packages/ipykernel/kernelbase.py\", line 729, in execute_request\n      reply_content = await reply_content\n    File \"/home/undwad/ipynb/jupyterenv/lib/python3.9/site-packages/ipykernel/ipkernel.py\", line 422, in do_execute\n      res = shell.run_cell(\n    File \"/home/undwad/ipynb/jupyterenv/lib/python3.9/site-packages/ipykernel/zmqshell.py\", line 540, in run_cell\n      return super().run_cell(*args, **kwargs)\n    File \"/home/undwad/ipynb/jupyterenv/lib/python3.9/site-packages/IPython/core/interactiveshell.py\", line 2961, in run_cell\n      result = self._run_cell(\n    File \"/home/undwad/ipynb/jupyterenv/lib/python3.9/site-packages/IPython/core/interactiveshell.py\", line 3016, in _run_cell\n      result = runner(coro)\n    File \"/home/undwad/ipynb/jupyterenv/lib/python3.9/site-packages/IPython/core/async_helpers.py\", line 129, in _pseudo_sync_runner\n      coro.send(None)\n    File \"/home/undwad/ipynb/jupyterenv/lib/python3.9/site-packages/IPython/core/interactiveshell.py\", line 3221, in run_cell_async\n      has_raised = await self.run_ast_nodes(code_ast.body, cell_name,\n    File \"/home/undwad/ipynb/jupyterenv/lib/python3.9/site-packages/IPython/core/interactiveshell.py\", line 3400, in run_ast_nodes\n      if await self.run_code(code, result, async_=asy):\n    File \"/home/undwad/ipynb/jupyterenv/lib/python3.9/site-packages/IPython/core/interactiveshell.py\", line 3460, in run_code\n      exec(code_obj, self.user_global_ns, self.user_ns)\n    File \"/tmp/ipykernel_4015982/1054033648.py\", line 16, in <module>\n      samples = samplegames({1:pi,2:pi}, iters=100)\n    File \"/home/undwad/ipynb/ttt/ttt_tactics.py\", line 601, in samplegames\n      winner,ss,pp,aa,rr,n = samplegame(pi)\n    File \"/home/undwad/ipynb/ttt/ttt_tactics.py\", line 539, in samplegame\n      while winner < 0:\n    File \"/home/undwad/ipynb/ttt/ttt_tactics.py\", line 543, in samplegame\n      aa,pp = selectpi(pi,s)\n    File \"/home/undwad/ipynb/ttt/ttt_tactics.py\", line 459, in selectpi\n      if actor == 1: return pi[1](s)\n    File \"/home/undwad/ipynb/ttt/ttt_tactics.py\", line 459, in selectpi\n      if actor == 1: return pi[1](s)\n    File \"/home/undwad/ipynb/ttt/ttt_tactics.py\", line 1457, in searchpi\n      for t in range(times):\n    File \"/home/undwad/ipynb/ttt/ttt_tactics.py\", line 1469, in searchpi\n      while winner < 0:\n    File \"/home/undwad/ipynb/ttt/ttt_tactics.py\", line 1479, in searchpi\n      if node < 0:\n    File \"/home/undwad/ipynb/ttt/ttt_tactics.py\", line 1481, in searchpi\n      q,pp = model(s,policy=False)\n    File \"/home/undwad/ipynb/ttt/ttt_tactics.py\", line 1181, in __call__\n      if training:\n    File \"/home/undwad/ipynb/ttt/ttt_tactics.py\", line 1191, in __call__\n      q,ppp = super(AlphaZeroModel, self).__call__(xx, training=False)\n    File \"/home/undwad/ipynb/jupyterenv/lib/python3.9/site-packages/keras/utils/traceback_utils.py\", line 65, in error_handler\n      return fn(*args, **kwargs)\n    File \"/home/undwad/ipynb/jupyterenv/lib/python3.9/site-packages/keras/engine/training.py\", line 561, in __call__\n      return super().__call__(*args, **kwargs)\n    File \"/home/undwad/ipynb/jupyterenv/lib/python3.9/site-packages/keras/utils/traceback_utils.py\", line 65, in error_handler\n      return fn(*args, **kwargs)\n    File \"/home/undwad/ipynb/jupyterenv/lib/python3.9/site-packages/keras/engine/base_layer.py\", line 1132, in __call__\n      outputs = call_fn(inputs, *args, **kwargs)\n    File \"/home/undwad/ipynb/jupyterenv/lib/python3.9/site-packages/keras/utils/traceback_utils.py\", line 96, in error_handler\n      return fn(*args, **kwargs)\n    File \"/home/undwad/ipynb/jupyterenv/lib/python3.9/site-packages/keras/engine/functional.py\", line 511, in call\n      return self._run_internal_graph(inputs, training=training, mask=mask)\n    File \"/home/undwad/ipynb/jupyterenv/lib/python3.9/site-packages/keras/engine/functional.py\", line 668, in _run_internal_graph\n      outputs = node.layer(*args, **kwargs)\n    File \"/home/undwad/ipynb/jupyterenv/lib/python3.9/site-packages/keras/utils/traceback_utils.py\", line 65, in error_handler\n      return fn(*args, **kwargs)\n    File \"/home/undwad/ipynb/jupyterenv/lib/python3.9/site-packages/keras/engine/base_layer.py\", line 1132, in __call__\n      outputs = call_fn(inputs, *args, **kwargs)\n    File \"/home/undwad/ipynb/jupyterenv/lib/python3.9/site-packages/keras/utils/traceback_utils.py\", line 96, in error_handler\n      return fn(*args, **kwargs)\n    File \"/home/undwad/ipynb/jupyterenv/lib/python3.9/site-packages/keras/layers/convolutional/base_conv.py\", line 283, in call\n      outputs = self.convolution_op(inputs, self.kernel)\n    File \"/home/undwad/ipynb/jupyterenv/lib/python3.9/site-packages/keras/layers/convolutional/base_conv.py\", line 255, in convolution_op\n      return tf.nn.convolution(\nNode: 'while/while/cond/alpha-zero-model/conv2d_2/Conv2D'\n2 root error(s) found.\n  (0) UNIMPLEMENTED:  DNN library is not found.\n\t [[{{node while/while/cond/alpha-zero-model/conv2d_2/Conv2D}}]]\n\t [[while/body/_1/while/cond/then/_710/while/cond/StatefulPartitionedCall/while/body/_1682/while/while/body/_2971/while/while/cond/else/_4404/while/while/cond/cond_1/pivot_t/_5471/_649]]\n  (1) UNIMPLEMENTED:  DNN library is not found.\n\t [[{{node while/while/cond/alpha-zero-model/conv2d_2/Conv2D}}]]\n0 successful operations.\n0 derived errors ignored. [Op:__inference_samplegame_9232]"
     ]
    }
   ],
   "source": [
    "model = AlphaZeroModel()\n",
    "# model.save(f'{DIR}/model-00000000.h5')\n",
    "iters = 1000\n",
    "while iters > 0:\n",
    "    iters -= 1\n",
    "\n",
    "    datas = sortedfiles(f'{DIR}/data-*.tfrec')\n",
    "    if len(datas) > 100:\n",
    "        print('removing', datas[0])\n",
    "        os.remove(datas[0])\n",
    "\n",
    "    models = sortedfiles(f'{DIR}/model-*.h5')\n",
    "    if models: model.load(models[-1])\n",
    "\n",
    "    pi = AlphaZeroPolicy(model, times=100, cp=2, tau=2)\n",
    "    samples = samplegames({1:pi,2:pi}, iters=100)\n",
    "    print('samples:', len(samples))\n",
    "\n",
    "    path = nextfile(datas[-1])\n",
    "    savesamples(path, samples)\n",
    "    MTIME(path)      \n",
    "\n",
    "    NOTIFY(f'data ready, len={len(samples)}, path={path}, left={iters}', title=ipynb, priority=-1)   \n"
   ]
  },
  {
   "cell_type": "code",
   "execution_count": null,
   "metadata": {
    "id": "Bn-dqhZhq38l"
   },
   "outputs": [],
   "source": []
  },
  {
   "cell_type": "code",
   "execution_count": null,
   "metadata": {},
   "outputs": [],
   "source": []
  }
 ],
 "metadata": {
  "colab": {
   "collapsed_sections": [],
   "name": "ttt-tactics-play.ipynb",
   "provenance": []
  },
  "deepnote_execution_queue": [
   {
    "cellId": "00002-fcbf0a34-515f-4a2a-9f7d-27da46f1f941",
    "msgId": "bde7c841-97ff-47e6-a840-53af2c9cbaac",
    "sessionId": "d384885d-990e-4079-8d42-4649ca5be88b"
   }
  ],
  "deepnote_notebook_id": "777b0eb2-67de-4cc7-8d90-a975241af1ce",
  "kernelspec": {
   "display_name": "Python 3 (ipykernel)",
   "language": "python",
   "name": "python3"
  },
  "language_info": {
   "codemirror_mode": {
    "name": "ipython",
    "version": 3
   },
   "file_extension": ".py",
   "mimetype": "text/x-python",
   "name": "python",
   "nbconvert_exporter": "python",
   "pygments_lexer": "ipython3",
   "version": "3.9.2"
  }
 },
 "nbformat": 4,
 "nbformat_minor": 1
}
