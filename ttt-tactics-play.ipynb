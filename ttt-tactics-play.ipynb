{
 "cells": [
  {
   "cell_type": "code",
   "execution_count": 1,
   "metadata": {
    "cellView": "both",
    "cell_id": "00000-eed71e6e-88cc-4f47-80c0-7cf291a94720",
    "id": "7CLObsEc-FqT",
    "output_cleared": false
   },
   "outputs": [
    {
     "name": "stdout",
     "output_type": "stream",
     "text": [
      "<ipykernel.zmqshell.ZMQInteractiveShell object at 0x7f0f96851430>\n",
      "'!!!.ipynb'    ttt-tactics\t        ttt_tactics.py\n",
      " __pycache__   ttt-tactics.ipynb        ttt-tactics-test.ipynb\n",
      " ttt-3.ipynb   ttt-tactics-play.ipynb   ttt-tactics-train.ipynb\n",
      "INFO:tensorflow:Using local port 24252\n",
      "INFO:tensorflow:Using local port 17041\n",
      "INFO:tensorflow:Using local port 18375\n",
      "INFO:tensorflow:Using local port 15723\n",
      "INFO:tensorflow:Using local port 18776\n",
      "INFO:tensorflow:Using local port 18432\n",
      "INFO:tensorflow:Using local port 15368\n",
      "INFO:tensorflow:Using local port 17360\n",
      "INFO:tensorflow:Using local port 15339\n",
      "INFO:tensorflow:Using local port 15703\n",
      "[PhysicalDevice(name='/physical_device:CPU:0', device_type='CPU')]\n",
      "cuda: False\n",
      "tensorflow: 2.4.0\n",
      "python: 3.8.5 (default, Jul 28 2020, 12:59:40) \n",
      "[GCC 9.3.0]\n",
      "module:  ttt_tactics\n",
      "DIR = ./ttt-tactics\n",
      "<function savesamples at 0x7f0f285ca820>\n",
      "<function loadsamples at 0x7f0f285ca940>\n",
      "<class 'ttt_tactics.AlphaZeroModel'>\n",
      "<function AlphaZeroPolicy at 0x7f0f285e43a0>\n",
      "MemTotal:       16393932 kB\n",
      "MemFree:        10135972 kB\n",
      "MemAvailable:   11957816 kB\n"
     ]
    }
   ],
   "source": [
    "ipython = get_ipython()\n",
    "colab   = 'google.colab' in str(ipython)\n",
    "print(ipython)\n",
    "\n",
    "if colab:\n",
    "    from google.colab import drive\n",
    "    drive.mount('/content/gdrive')\n",
    "    %cd '/content/gdrive/My Drive/Colab Notebooks'\n",
    "\n",
    "!ls \"./\"\n",
    "\n",
    "def MODULE_FROM_NOTEBOOK(target, source, *keys): \n",
    "    from json import load\n",
    "    with open(source) as notebook:\n",
    "        data = load(notebook)\n",
    "        with open(target,'w') as module:\n",
    "            for cell in data['cells']:\n",
    "                lines = cell['source']\n",
    "                if type(lines) == str:\n",
    "                    lines = lines.split('\\n')\n",
    "                line0  = (lines or [''])[0].strip()\n",
    "                haskey = lambda key: line0 == f'### {key} ###'\n",
    "                if cell['cell_type'] == 'code' and any(map(haskey,keys)):\n",
    "                    code = '\\n'.join(lines)\n",
    "                    module.write(code)\n",
    "                    module.write('\\n')\n",
    "                     \n",
    "MODULE_FROM_NOTEBOOK('./ttt_tactics.py',\n",
    "                     './ttt-tactics.ipynb',\n",
    "                     'HEAD','GAME','DATA','MODEL','SEARCH')\n",
    "\n",
    "from ttt_tactics import *\n",
    "\n",
    "!cat /proc/meminfo | grep Mem\n",
    "\n",
    "ipynb = 'ttt-tactics-play'\n"
   ]
  },
  {
   "cell_type": "code",
   "execution_count": null,
   "metadata": {
    "id": "LMwcmv8aSXHx"
   },
   "outputs": [],
   "source": []
  },
  {
   "cell_type": "code",
   "execution_count": null,
   "metadata": {
    "id": "SUoIZqK3oQlQ"
   },
   "outputs": [
    {
     "name": "stdout",
     "output_type": "stream",
     "text": [
      "./ttt-tactics/model-00000009.h5 Oct 18 2020 04:11:03\n",
      "samplegames 1:searchpi(model-00000009,times=100,cp=2,tau=2) vs 2:searchpi(model-00000009,times=100,cp=2,tau=2)\n",
      "WARNING:tensorflow:From /home/undwad/venv/lib/python3.8/site-packages/tensorflow/python/ops/linalg/linear_operator_full_matrix.py:150: calling LinearOperator.__init__ (from tensorflow.python.ops.linalg.linear_operator) with graph_parents is deprecated and will be removed in a future version.\n",
      "Instructions for updating:\n",
      "Do not pass `graph_parents`.  They will  no longer be used.\n",
      "WARNING:tensorflow:From /home/undwad/venv/lib/python3.8/site-packages/tensorflow/python/ops/linalg/linear_operator_kronecker.py:224: LinearOperator.graph_parents (from tensorflow.python.ops.linalg.linear_operator) is deprecated and will be removed in a future version.\n",
      "Instructions for updating:\n",
      "Do not call `graph_parents`.\n",
      " 16/100 [===>..........................] - ETA: 2:20:28 - episode: 61.0000 - agent: 0.4375 - rival: 0.3125 - draw: 0.2500"
     ]
    }
   ],
   "source": [
    "model = AlphaZeroModel()\n",
    "# model.save(f'{DIR}/model-00000000.h5')\n",
    "iters = 1000\n",
    "while iters > 0:\n",
    "    iters -= 1\n",
    "\n",
    "    datas = sortedfiles(f'{DIR}/data-*.tfrec')\n",
    "    if len(datas) > 100:\n",
    "        print('removing', datas[0])\n",
    "        os.remove(datas[0])\n",
    "\n",
    "    models = sortedfiles(f'{DIR}/model-*.h5')\n",
    "    model.load(models[-1])\n",
    "\n",
    "    pi = AlphaZeroPolicy(model, times=100, cp=2, tau=2)\n",
    "    samples = samplegames({1:pi,2:pi}, iters=100)\n",
    "    print('samples:', len(samples))\n",
    "\n",
    "    path = nextfile(models[-1])\n",
    "    savesamples(path, samples)\n",
    "    MTIME(path)      \n",
    "\n",
    "    NOTIFY(f'data ready, len={len(samples)}, path={path}, left={iters}', title=ipynb, priority=-1)   \n"
   ]
  },
  {
   "cell_type": "code",
   "execution_count": null,
   "metadata": {
    "id": "Bn-dqhZhq38l"
   },
   "outputs": [],
   "source": []
  }
 ],
 "metadata": {
  "colab": {
   "collapsed_sections": [],
   "name": "ttt-tactics-play.ipynb",
   "provenance": []
  },
  "deepnote_execution_queue": [
   {
    "cellId": "00002-fcbf0a34-515f-4a2a-9f7d-27da46f1f941",
    "msgId": "bde7c841-97ff-47e6-a840-53af2c9cbaac",
    "sessionId": "d384885d-990e-4079-8d42-4649ca5be88b"
   }
  ],
  "deepnote_notebook_id": "777b0eb2-67de-4cc7-8d90-a975241af1ce",
  "kernelspec": {
   "display_name": "Python 3",
   "language": "python",
   "name": "python3"
  },
  "language_info": {
   "codemirror_mode": {
    "name": "ipython",
    "version": 3
   },
   "file_extension": ".py",
   "mimetype": "text/x-python",
   "name": "python",
   "nbconvert_exporter": "python",
   "pygments_lexer": "ipython3",
   "version": "3.8.5"
  }
 },
 "nbformat": 4,
 "nbformat_minor": 1
}
