{
 "cells": [
  {
   "cell_type": "code",
   "execution_count": 1,
   "metadata": {
    "cellView": "both",
    "cell_id": "00000-eed71e6e-88cc-4f47-80c0-7cf291a94720",
    "colab": {
     "base_uri": "https://localhost:8080/",
     "height": 493
    },
    "executionInfo": {
     "elapsed": 2432,
     "status": "ok",
     "timestamp": 1602495530362,
     "user": {
      "displayName": "Undwad",
      "photoUrl": "https://lh3.googleusercontent.com/a-/AOh14Gi2LR8pxvZnN5KvU-IbaWn4pEB_L6xxtMILv0Vz=s64",
      "userId": "09404197363845193389"
     },
     "user_tz": -240
    },
    "id": "7CLObsEc-FqT",
    "outputId": "1670b9e1-0412-42d0-f941-52b45b239bcf",
    "output_cleared": false
   },
   "outputs": [
    {
     "name": "stdout",
     "output_type": "stream",
     "text": [
      "<ipykernel.zmqshell.ZMQInteractiveShell object at 0x7fee77d57760>\n",
      "'!!!.ipynb'    ttt-tactics\t        ttt_tactics.py\n",
      " __pycache__   ttt-tactics.ipynb        ttt-tactics-test.ipynb\n",
      " ttt-3.ipynb   ttt-tactics-play.ipynb   ttt-tactics-train.ipynb\n",
      "INFO:tensorflow:Using local port 20416\n",
      "INFO:tensorflow:Using local port 17254\n",
      "INFO:tensorflow:Using local port 19163\n",
      "INFO:tensorflow:Using local port 21976\n",
      "INFO:tensorflow:Using local port 22937\n",
      "INFO:tensorflow:Using local port 23238\n",
      "INFO:tensorflow:Using local port 17174\n",
      "INFO:tensorflow:Using local port 21973\n",
      "INFO:tensorflow:Using local port 17502\n",
      "INFO:tensorflow:Using local port 16237\n",
      "[PhysicalDevice(name='/physical_device:CPU:0', device_type='CPU')]\n",
      "cuda: False\n",
      "tensorflow: 2.4.0\n",
      "DIR = ./ttt-tactics\n",
      "MODULE =  ttt_tactics\n",
      "<function savesamples at 0x7fee082c51f0>\n",
      "<function loadsamples at 0x7fee082c5430>\n",
      "<class 'ttt_tactics.AlphaZeroModel'>\n",
      "<function AlphaZeroPolicy at 0x7fee23b34f70>\n",
      "MemTotal:       16393932 kB\n",
      "MemFree:         6622444 kB\n",
      "MemAvailable:   10638632 kB\n"
     ]
    }
   ],
   "source": [
    "ipython = get_ipython()\n",
    "colab   = 'google.colab' in str(ipython)\n",
    "print(ipython)\n",
    "\n",
    "if colab:\n",
    "    from google.colab import drive\n",
    "    drive.mount('/content/gdrive')\n",
    "    %cd '/content/gdrive/My Drive/Colab Notebooks'\n",
    "\n",
    "!ls \"./\"\n",
    "\n",
    "def MODULE_FROM_NOTEBOOK(target, source, *keys): \n",
    "    from json import load\n",
    "    with open(source) as notebook:\n",
    "        data = load(notebook)\n",
    "        with open(target,'w') as module:\n",
    "            for cell in data['cells']:\n",
    "                lines = cell['source']\n",
    "                if type(lines) == str:\n",
    "                    lines = lines.split('\\n')\n",
    "                line0  = (lines or [''])[0].strip()\n",
    "                haskey = lambda key: line0 == f'### {key} ###'\n",
    "                if cell['cell_type'] == 'code' and any(map(haskey,keys)):\n",
    "                    code = '\\n'.join(lines)\n",
    "                    module.write(code)\n",
    "                    module.write('\\n')\n",
    "                     \n",
    "MODULE_FROM_NOTEBOOK('./ttt_tactics.py',\n",
    "                     './ttt-tactics.ipynb',\n",
    "                     'HEAD','GAME','DATA','MODEL','SEARCH')\n",
    "\n",
    "from ttt_tactics import *\n",
    "\n",
    "!cat /proc/meminfo | grep Mem\n",
    "\n",
    "ipynb = 'ttt-tactics-test'\n",
    "\n",
    "# %load_ext tensorboard\n"
   ]
  },
  {
   "cell_type": "code",
   "execution_count": null,
   "metadata": {
    "id": "LMwcmv8aSXHx"
   },
   "outputs": [],
   "source": []
  },
  {
   "cell_type": "code",
   "execution_count": null,
   "metadata": {
    "id": "SUoIZqK3oQlQ"
   },
   "outputs": [],
   "source": [
    "%tensorboard --logdir \"./tensorboard/\""
   ]
  },
  {
   "cell_type": "code",
   "execution_count": null,
   "metadata": {
    "id": "eNb_Q0Yjf2eC"
   },
   "outputs": [],
   "source": []
  },
  {
   "cell_type": "code",
   "execution_count": null,
   "metadata": {
    "id": "YvNOpTKef3oq"
   },
   "outputs": [],
   "source": [
    "%%monitor_cell \"ttt-tactics test-play\"\n",
    "\n",
    "model = AlphaZeroModel()\n",
    "models = sortedfiles(f'{DIR}/model-*.h5')\n",
    "model.load(models[-1])\n",
    "\n",
    "pi = AlphaZeroPolicy(model, times=100, cp=0, tau=0)\n",
    "ratios12 = testgames({1:pi,2:randompi}, iters=100)\n",
    "ratios21 = testgames({2:pi,1:randompi}, iters=100)\n",
    "\n",
    "NOTIFY(f'{str(model)} tested, {ratios12} vs {ratios21}', title=ipynb, priority=1)\n",
    "\n",
    "\n",
    "\n",
    "\n"
   ]
  },
  {
   "cell_type": "code",
   "execution_count": null,
   "metadata": {
    "id": "5-TlDd5bgpdk"
   },
   "outputs": [],
   "source": []
  },
  {
   "cell_type": "code",
   "execution_count": null,
   "metadata": {
    "colab": {
     "base_uri": "https://localhost:8080/",
     "height": 1000
    },
    "executionInfo": {
     "elapsed": 2602,
     "status": "ok",
     "timestamp": 1602499802962,
     "user": {
      "displayName": "Undwad",
      "photoUrl": "https://lh3.googleusercontent.com/a-/AOh14Gi2LR8pxvZnN5KvU-IbaWn4pEB_L6xxtMILv0Vz=s64",
      "userId": "09404197363845193389"
     },
     "user_tz": -240
    },
    "id": "giaTPyGCaO6L",
    "outputId": "4676f4d8-bd10-4f89-d6fa-5b69b6e52f21"
   },
   "outputs": [],
   "source": [
    "from rle.np_impl import dense_to_rle\n",
    "\n",
    "@autograph.experimental.do_not_convert\n",
    "def loadsamples(files, buffer_size=1024, batch_size=64, seed=None):\n",
    "    proto = { 'state'  : FixedLenFeature([size_s], int64),\n",
    "              'probs'  : FixedLenFeature([num_a],  float),\n",
    "              'reward' : FixedLenFeature([1],      int64) }\n",
    "    def loadsample(sample):\n",
    "        sample = io.parse_single_example(sample,proto)\n",
    "        input  = {'state'  : sample['state']}\n",
    "        output = {'value'  : sample['reward'], \n",
    "                  'policy' : sample['probs']}\n",
    "        return input,output \n",
    "    dataset = data.TFRecordDataset(files)            \n",
    "    dataset = dataset.map(loadsample, num_parallel_calls=AUTOTUNE)\n",
    "    return dataset\n",
    "\n",
    "path    = f'{DIR}/data-1601999616.0.tfrec'       \n",
    "files   = sortedfiles(path)\n",
    "dataset = loadsamples(files)\n",
    "actor   = 0\n",
    "i       = 0\n",
    "for input,output in dataset:\n",
    "    # print(input['state'].shape,output['policy'].shape,output['value'].shape)      \n",
    "    state = input['state']\n",
    "    p     = player(state)\n",
    "    if p != actor or turn(state) == 0:\n",
    "        actor = p\n",
    "        key   = digits(state)\n",
    "        S,s,t = splitgame(state)\n",
    "        print(f'{i:0>4d}: player={p}, turn={t:0>2d}')\n",
    "        pprint(key)\n",
    "        pprint(S)\n",
    "        pprint(s)\n",
    "        # pprint(state)\n",
    "        print('\\n')\n",
    "        if i > 100:\n",
    "            break\n",
    "        i += 1\n",
    "\n",
    "\n"
   ]
  },
  {
   "cell_type": "code",
   "execution_count": null,
   "metadata": {
    "id": "q_6FDpmwaPEJ"
   },
   "outputs": [],
   "source": []
  }
 ],
 "metadata": {
  "colab": {
   "collapsed_sections": [],
   "name": "ttt-tactics-test.ipynb",
   "provenance": []
  },
  "deepnote_execution_queue": [
   {
    "cellId": "00002-fcbf0a34-515f-4a2a-9f7d-27da46f1f941",
    "msgId": "bde7c841-97ff-47e6-a840-53af2c9cbaac",
    "sessionId": "d384885d-990e-4079-8d42-4649ca5be88b"
   }
  ],
  "deepnote_notebook_id": "777b0eb2-67de-4cc7-8d90-a975241af1ce",
  "kernelspec": {
   "display_name": "Python 3",
   "language": "python",
   "name": "python3"
  },
  "language_info": {
   "codemirror_mode": {
    "name": "ipython",
    "version": 3
   },
   "file_extension": ".py",
   "mimetype": "text/x-python",
   "name": "python",
   "nbconvert_exporter": "python",
   "pygments_lexer": "ipython3",
   "version": "3.8.5"
  }
 },
 "nbformat": 4,
 "nbformat_minor": 1
}
