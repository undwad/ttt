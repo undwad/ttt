{
 "cells": [
  {
   "cell_type": "code",
   "execution_count": 1,
   "metadata": {
    "cellView": "both",
    "cell_id": "00000-eed71e6e-88cc-4f47-80c0-7cf291a94720",
    "colab": {
     "base_uri": "https://localhost:8080/",
     "height": 493
    },
    "executionInfo": {
     "elapsed": 46743,
     "status": "ok",
     "timestamp": 1602482278243,
     "user": {
      "displayName": "Undwad",
      "photoUrl": "https://lh3.googleusercontent.com/a-/AOh14Gi2LR8pxvZnN5KvU-IbaWn4pEB_L6xxtMILv0Vz=s64",
      "userId": "09404197363845193389"
     },
     "user_tz": -240
    },
    "id": "7CLObsEc-FqT",
    "outputId": "57233c7d-1c25-4092-ed02-50cc76e01e00",
    "output_cleared": false
   },
   "outputs": [
    {
     "name": "stdout",
     "output_type": "stream",
     "text": [
      "<ipykernel.zmqshell.ZMQInteractiveShell object at 0x7f8c3766a430>\n",
      "'!!!.ipynb'    ttt-tactics\t        ttt_tactics.py\n",
      " __pycache__   ttt-tactics.ipynb        ttt-tactics-test.ipynb\n",
      " ttt-3.ipynb   ttt-tactics-play.ipynb   ttt-tactics-train.ipynb\n",
      "INFO:tensorflow:Using local port 15563\n",
      "INFO:tensorflow:Using local port 17945\n",
      "INFO:tensorflow:Using local port 24457\n",
      "INFO:tensorflow:Using local port 23435\n",
      "INFO:tensorflow:Using local port 15239\n",
      "INFO:tensorflow:Using local port 23391\n",
      "INFO:tensorflow:Using local port 19254\n",
      "INFO:tensorflow:Using local port 22297\n",
      "INFO:tensorflow:Using local port 23793\n",
      "INFO:tensorflow:Using local port 19579\n",
      "[PhysicalDevice(name='/physical_device:CPU:0', device_type='CPU')]\n",
      "cuda: False\n",
      "tensorflow: 2.4.0\n",
      "python: 3.8.5 (default, Jul 28 2020, 12:59:40) \n",
      "[GCC 9.3.0]\n",
      "module:  ttt_tactics\n",
      "DIR = ./ttt-tactics\n",
      "<function savesamples at 0x7f8bcbbcd820>\n",
      "<function loadsamples at 0x7f8bcbbcda60>\n",
      "<class 'ttt_tactics.AlphaZeroModel'>\n",
      "<function AlphaZeroPolicy at 0x7f8bcbbcdb80>\n",
      "MemTotal:       16393932 kB\n",
      "MemFree:        12565748 kB\n",
      "MemAvailable:   14020388 kB\n"
     ]
    }
   ],
   "source": [
    "ipython = get_ipython()\n",
    "colab   = 'google.colab' in str(ipython)\n",
    "print(ipython)\n",
    "\n",
    "if colab:\n",
    "    from google.colab import drive\n",
    "    drive.mount('/content/gdrive')\n",
    "    %cd '/content/gdrive/My Drive/Colab Notebooks'\n",
    "\n",
    "!ls \"./\"\n",
    "\n",
    "def MODULE_FROM_NOTEBOOK(target, source, *keys): \n",
    "    from json import load\n",
    "    with open(source) as notebook:\n",
    "        data = load(notebook)\n",
    "        with open(target,'w') as module:\n",
    "            for cell in data['cells']:\n",
    "                lines = cell['source']\n",
    "                if type(lines) == str:\n",
    "                    lines = lines.split('\\n')\n",
    "                line0  = (lines or [''])[0].strip()\n",
    "                haskey = lambda key: line0 == f'### {key} ###'\n",
    "                if cell['cell_type'] == 'code' and any(map(haskey,keys)):\n",
    "                    code = '\\n'.join(lines)\n",
    "                    module.write(code)\n",
    "                    module.write('\\n')\n",
    "                     \n",
    "MODULE_FROM_NOTEBOOK('./ttt_tactics.py',\n",
    "                     './ttt-tactics.ipynb',\n",
    "                     'HEAD','GAME','DATA','MODEL','SEARCH')\n",
    "\n",
    "from ttt_tactics import *\n",
    "\n",
    "!cat /proc/meminfo | grep Mem\n",
    "\n",
    "ipynb = 'ttt-tactics-train'\n",
    "\n",
    "# %load_ext tensorboard\n",
    "\n",
    "# !rm -rf \"./tensorboard/\"\n"
   ]
  },
  {
   "cell_type": "code",
   "execution_count": null,
   "metadata": {
    "id": "Uv3JyAE1xgty"
   },
   "outputs": [],
   "source": []
  },
  {
   "cell_type": "code",
   "execution_count": null,
   "metadata": {
    "colab": {
     "base_uri": "https://localhost:8080/",
     "height": 253
    },
    "id": "SUoIZqK3oQlQ",
    "outputId": "6cfb75ff-7a57-4fba-d207-2bf96e846d59"
   },
   "outputs": [
    {
     "name": "stdout",
     "output_type": "stream",
     "text": [
      "./ttt-tactics/model-00000009.h5 Oct 18 2020 04:11:03\n",
      "WARNING:tensorflow:From /home/undwad/venv/lib/python3.8/site-packages/tensorflow/python/ops/linalg/linear_operator_full_matrix.py:150: calling LinearOperator.__init__ (from tensorflow.python.ops.linalg.linear_operator) with graph_parents is deprecated and will be removed in a future version.\n",
      "Instructions for updating:\n",
      "Do not pass `graph_parents`.  They will  no longer be used.\n",
      "WARNING:tensorflow:From /home/undwad/venv/lib/python3.8/site-packages/tensorflow/python/ops/linalg/linear_operator_kronecker.py:224: LinearOperator.graph_parents (from tensorflow.python.ops.linalg.linear_operator) is deprecated and will be removed in a future version.\n",
      "Instructions for updating:\n",
      "Do not call `graph_parents`.\n",
      "path = ./ttt-tactics/data-*.tfrec\n",
      "files: 75\n",
      "Epoch 1/10\n",
      "   2523/Unknown - 1820s 717ms/step - loss: 2.3083 - value_loss: 0.7388 - policy_loss: 1.5695 - value_lr: 1.0000e-04"
     ]
    }
   ],
   "source": [
    "minloss = 2.4\n",
    "model   = AlphaZeroModel()\n",
    "models  = sortedfiles(f'{DIR}/model-*.h5')\n",
    "model.load(models[-1])\n",
    "\n",
    "left = 1000\n",
    "while left > 0:\n",
    "    left   -= 1\n",
    "    path    = f'{DIR}/data-*.tfrec'\n",
    "    files   = sortedfiles(path)\n",
    "    dataset = loadsamples(files, buffer_size=200*1024, batch_size=1024, seed=None)\n",
    "    print('path =',path)\n",
    "    print('files:',len(files))\n",
    "\n",
    "    schedule = { 0:0.0001 }\n",
    "    def onschedule(epoch, lr): \n",
    "        if epoch in schedule: return schedule[epoch]  \n",
    "        else:                 return lr\n",
    "    scheduler = LearningRateScheduler(onschedule)\n",
    "    \n",
    "    @throttle(60*60)\n",
    "    def onbatch(batch, logs):\n",
    "        NOTIFY(f'{str(model)}, batch={batch}, logs={logs}', title=ipynb, priority=-1)\n",
    "    def onepoch(epoch, logs):\n",
    "        NOTIFY(f'{str(model)}, epoch={epoch}, logs={logs}', title=ipynb, priority=0)\n",
    "    def ontrain(logs):\n",
    "        ok = 'OK' if logs['loss'] < minloss else 'NO'\n",
    "        NOTIFY(f'{str(model)}, train={ok}, logs={logs}', title=ipynb, priority=1)\n",
    "    notifier = LambdaCallback(\n",
    "        on_batch_end = onbatch,\n",
    "        on_epoch_end = onepoch,\n",
    "        on_train_end = ontrain)\n",
    "    \n",
    "    history = model.fit(\n",
    "        x                   = dataset,\n",
    "        epochs              = 10,\n",
    "        verbose             = 1,\n",
    "        callbacks           = [scheduler,notifier],\n",
    "        workers             = 10,\n",
    "        use_multiprocessing = False)\n",
    "    history = history.history\n",
    "\n",
    "    loss = history['loss'][-1]\n",
    "    if loss < minloss:\n",
    "        minloss = loss\n",
    "        model.save(nextfile(models[-1]))\n",
    "\n",
    "    plt.figure()\n",
    "    plt.plot(history['loss'],        label='total loss')\n",
    "    plt.plot(history['policy_loss'], label='policy loss')\n",
    "    plt.plot(history['value_loss'],  label='value loss')\n",
    "    plt.title('training history')\n",
    "    plt.xlabel('epoch')\n",
    "    plt.ylabel('loss')\n",
    "    plt.legend(loc=\"upper left\")\n",
    "    plt.savefig(f'{DIR}/{str(model)}.png')\n",
    "    plt.show()\n"
   ]
  },
  {
   "cell_type": "code",
   "execution_count": null,
   "metadata": {
    "id": "F3BjfAKFRvsQ"
   },
   "outputs": [],
   "source": []
  },
  {
   "cell_type": "code",
   "execution_count": null,
   "metadata": {
    "colab": {
     "base_uri": "https://localhost:8080/",
     "height": 68
    },
    "executionInfo": {
     "elapsed": 1167,
     "status": "ok",
     "timestamp": 1602513995895,
     "user": {
      "displayName": "Undwad",
      "photoUrl": "https://lh3.googleusercontent.com/a-/AOh14Gi2LR8pxvZnN5KvU-IbaWn4pEB_L6xxtMILv0Vz=s64",
      "userId": "09404197363845193389"
     },
     "user_tz": -240
    },
    "id": "Bn-dqhZhq38l",
    "outputId": "31146eec-1bbf-4b8e-e8bf-e6582c21685e"
   },
   "outputs": [],
   "source": [
    "model.save(f'{DIR}/model-{num:0>3d}.h5')"
   ]
  },
  {
   "cell_type": "code",
   "execution_count": null,
   "metadata": {},
   "outputs": [],
   "source": [
    "|"
   ]
  }
 ],
 "metadata": {
  "colab": {
   "collapsed_sections": [],
   "name": "ttt-tactics-train.ipynb",
   "provenance": []
  },
  "deepnote_execution_queue": [
   {
    "cellId": "00002-fcbf0a34-515f-4a2a-9f7d-27da46f1f941",
    "msgId": "bde7c841-97ff-47e6-a840-53af2c9cbaac",
    "sessionId": "d384885d-990e-4079-8d42-4649ca5be88b"
   }
  ],
  "deepnote_notebook_id": "777b0eb2-67de-4cc7-8d90-a975241af1ce",
  "kernelspec": {
   "display_name": "Python 3",
   "language": "python",
   "name": "python3"
  },
  "language_info": {
   "codemirror_mode": {
    "name": "ipython",
    "version": 3
   },
   "file_extension": ".py",
   "mimetype": "text/x-python",
   "name": "python",
   "nbconvert_exporter": "python",
   "pygments_lexer": "ipython3",
   "version": "3.8.5"
  }
 },
 "nbformat": 4,
 "nbformat_minor": 1
}
